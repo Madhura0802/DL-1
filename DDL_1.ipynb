{
  "nbformat": 4,
  "nbformat_minor": 0,
  "metadata": {
    "colab": {
      "provenance": [],
      "authorship_tag": "ABX9TyNia36cGFLb93mnE/NOvZ+3",
      "include_colab_link": true
    },
    "kernelspec": {
      "name": "python3",
      "display_name": "Python 3"
    },
    "language_info": {
      "name": "python"
    }
  },
  "cells": [
    {
      "cell_type": "markdown",
      "metadata": {
        "id": "view-in-github",
        "colab_type": "text"
      },
      "source": [
        "<a href=\"https://colab.research.google.com/github/Madhura0802/DL-1/blob/main/DDL_1.ipynb\" target=\"_parent\"><img src=\"https://colab.research.google.com/assets/colab-badge.svg\" alt=\"Open In Colab\"/></a>"
      ]
    },
    {
      "cell_type": "code",
      "source": [
        "import tensorflow as tf\n",
        "from tensorflow.keras.datasets import boston_housing\n",
        "from sklearn import preprocessing"
      ],
      "metadata": {
        "id": "SuxJ2Euq96Sh"
      },
      "execution_count": 21,
      "outputs": []
    },
    {
      "cell_type": "code",
      "source": [
        "(train_x, train_y), (test_x, test_y) = boston_housing.load_data()"
      ],
      "metadata": {
        "id": "7WcZjK7q97k1"
      },
      "execution_count": 22,
      "outputs": []
    },
    {
      "cell_type": "code",
      "source": [
        "print(\"Train shape: \", train_x.shape)\n",
        "print(\"Test Shape: \", test_x.shape)\n",
        "print(\"Actual Train output: \", train_y.shape)\n",
        "print(\"Actual Test output: \", test_y.shape)"
      ],
      "metadata": {
        "colab": {
          "base_uri": "https://localhost:8080/"
        },
        "id": "oX7CldSn9_ke",
        "outputId": "a2afc0ee-c5da-459c-e920-97b23d7a6a91"
      },
      "execution_count": 23,
      "outputs": [
        {
          "output_type": "stream",
          "name": "stdout",
          "text": [
            "Train shape:  (404, 13)\n",
            "Test Shape:  (102, 13)\n",
            "Actual Train output:  (404,)\n",
            "Actual Test output:  (102,)\n"
          ]
        }
      ]
    },
    {
      "cell_type": "code",
      "source": [
        "train_x[0]"
      ],
      "metadata": {
        "colab": {
          "base_uri": "https://localhost:8080/"
        },
        "id": "h_HYf6Qr-FO5",
        "outputId": "fe437ac5-17c7-43fd-892a-3088f9cfb7e8"
      },
      "execution_count": 24,
      "outputs": [
        {
          "output_type": "execute_result",
          "data": {
            "text/plain": [
              "array([  1.23247,   0.     ,   8.14   ,   0.     ,   0.538  ,   6.142  ,\n",
              "        91.7    ,   3.9769 ,   4.     , 307.     ,  21.     , 396.9    ,\n",
              "        18.72   ])"
            ]
          },
          "metadata": {},
          "execution_count": 24
        }
      ]
    },
    {
      "cell_type": "code",
      "source": [
        "train_y[0]"
      ],
      "metadata": {
        "colab": {
          "base_uri": "https://localhost:8080/"
        },
        "id": "PKEhI6SL-G2g",
        "outputId": "b6ab2203-c772-474a-98b9-04ccf5885a25"
      },
      "execution_count": 25,
      "outputs": [
        {
          "output_type": "execute_result",
          "data": {
            "text/plain": [
              "15.2"
            ]
          },
          "metadata": {},
          "execution_count": 25
        }
      ]
    },
    {
      "cell_type": "code",
      "source": [
        "\n",
        "train_x = preprocessing.normalize(train_x)\n",
        "test_x = preprocessing.normalize(test_x)"
      ],
      "metadata": {
        "id": "LRje1LWC-JvY"
      },
      "execution_count": 26,
      "outputs": []
    },
    {
      "cell_type": "code",
      "source": [
        "train_x[0]"
      ],
      "metadata": {
        "colab": {
          "base_uri": "https://localhost:8080/"
        },
        "id": "4HXjAC02-N4a",
        "outputId": "50af5bd0-76e5-4a76-d997-b98aa3a73b28"
      },
      "execution_count": 27,
      "outputs": [
        {
          "output_type": "execute_result",
          "data": {
            "text/plain": [
              "array([0.0024119 , 0.        , 0.01592969, 0.        , 0.00105285,\n",
              "       0.01201967, 0.17945359, 0.00778265, 0.00782786, 0.6007879 ,\n",
              "       0.04109624, 0.77671895, 0.03663436])"
            ]
          },
          "metadata": {},
          "execution_count": 27
        }
      ]
    },
    {
      "cell_type": "code",
      "source": [
        "train_y[0]"
      ],
      "metadata": {
        "colab": {
          "base_uri": "https://localhost:8080/"
        },
        "id": "ukITZDfw-Tyu",
        "outputId": "7aacb677-405d-4a57-bbef-ff4876bd4d50"
      },
      "execution_count": 28,
      "outputs": [
        {
          "output_type": "execute_result",
          "data": {
            "text/plain": [
              "15.2"
            ]
          },
          "metadata": {},
          "execution_count": 28
        }
      ]
    },
    {
      "cell_type": "code",
      "source": [
        "from tensorflow.keras.models import Sequential\n",
        "from tensorflow.keras.layers import *"
      ],
      "metadata": {
        "id": "l60TarC0-Y1A"
      },
      "execution_count": 29,
      "outputs": []
    },
    {
      "cell_type": "code",
      "source": [
        "def HousePricePredictionModel():\n",
        "    model = Sequential()\n",
        "    model.add(Dense(128, activation=\"relu\", input_shape=(train_x[0].shape)))\n",
        "    model.add(Dense(64, activation=\"relu\"))\n",
        "    model.add(Dense(32, activation=\"relu\"))\n",
        "    model.add(Dense(1))\n",
        "    model.compile(optimizer=\"rmsprop\", loss=\"mse\", metrics=[\"mae\"])\n",
        "    return model"
      ],
      "metadata": {
        "id": "yxhUrK7X-eQc"
      },
      "execution_count": 30,
      "outputs": []
    },
    {
      "cell_type": "code",
      "source": [
        "import numpy as np\n",
        "k = 4\n",
        "num_val_samples = len(train_x)\n",
        "num_epochs = 101\n",
        "all_scores = []"
      ],
      "metadata": {
        "id": "pqOcp-9e-lYF"
      },
      "execution_count": 31,
      "outputs": []
    },
    {
      "cell_type": "code",
      "source": [
        "model = HousePricePredictionModel()\n",
        "history = model.fit(x=train_x, y=train_y, epochs=num_epochs, batch_size=1, verbose=1, validation_data=(test_x, test_y))\n",
        "\n"
      ],
      "metadata": {
        "colab": {
          "base_uri": "https://localhost:8080/"
        },
        "id": "j3IKL5DQ-nBB",
        "outputId": "0f65a269-d1f1-43de-e460-131d422b8075"
      },
      "execution_count": 32,
      "outputs": [
        {
          "output_type": "stream",
          "name": "stdout",
          "text": [
            "Epoch 1/101\n",
            "404/404 [==============================] - 2s 2ms/step - loss: 151.3471 - mae: 8.8770 - val_loss: 77.8085 - val_mae: 6.1925\n",
            "Epoch 2/101\n",
            "404/404 [==============================] - 1s 2ms/step - loss: 68.9015 - mae: 5.8267 - val_loss: 61.2895 - val_mae: 5.8601\n",
            "Epoch 3/101\n",
            "404/404 [==============================] - 1s 2ms/step - loss: 64.2051 - mae: 5.5682 - val_loss: 59.9050 - val_mae: 5.5624\n",
            "Epoch 4/101\n",
            "404/404 [==============================] - 1s 2ms/step - loss: 60.9786 - mae: 5.4330 - val_loss: 63.4729 - val_mae: 5.6314\n",
            "Epoch 5/101\n",
            "404/404 [==============================] - 1s 2ms/step - loss: 58.4246 - mae: 5.2044 - val_loss: 56.8099 - val_mae: 5.8030\n",
            "Epoch 6/101\n",
            "404/404 [==============================] - 1s 2ms/step - loss: 57.3793 - mae: 5.1808 - val_loss: 53.0314 - val_mae: 5.4710\n",
            "Epoch 7/101\n",
            "404/404 [==============================] - 1s 2ms/step - loss: 56.1040 - mae: 5.1196 - val_loss: 57.0413 - val_mae: 5.3328\n",
            "Epoch 8/101\n",
            "404/404 [==============================] - 1s 2ms/step - loss: 54.9189 - mae: 5.0061 - val_loss: 52.1364 - val_mae: 5.4261\n",
            "Epoch 9/101\n",
            "404/404 [==============================] - 1s 2ms/step - loss: 51.6676 - mae: 4.8846 - val_loss: 59.1044 - val_mae: 5.4003\n",
            "Epoch 10/101\n",
            "404/404 [==============================] - 1s 2ms/step - loss: 50.8931 - mae: 4.7160 - val_loss: 50.0688 - val_mae: 5.2944\n",
            "Epoch 11/101\n",
            "404/404 [==============================] - 1s 3ms/step - loss: 50.5950 - mae: 4.7993 - val_loss: 46.5747 - val_mae: 4.9553\n",
            "Epoch 12/101\n",
            "404/404 [==============================] - 1s 3ms/step - loss: 47.6630 - mae: 4.6470 - val_loss: 54.4447 - val_mae: 5.8593\n",
            "Epoch 13/101\n",
            "404/404 [==============================] - 1s 3ms/step - loss: 47.6619 - mae: 4.6639 - val_loss: 54.4489 - val_mae: 5.1460\n",
            "Epoch 14/101\n",
            "404/404 [==============================] - 1s 2ms/step - loss: 45.2864 - mae: 4.6103 - val_loss: 45.2273 - val_mae: 5.0545\n",
            "Epoch 15/101\n",
            "404/404 [==============================] - 1s 2ms/step - loss: 44.8888 - mae: 4.5388 - val_loss: 41.5382 - val_mae: 4.6681\n",
            "Epoch 16/101\n",
            "404/404 [==============================] - 1s 2ms/step - loss: 43.3464 - mae: 4.5774 - val_loss: 41.9493 - val_mae: 4.4492\n",
            "Epoch 17/101\n",
            "404/404 [==============================] - 1s 2ms/step - loss: 39.9366 - mae: 4.3319 - val_loss: 38.3673 - val_mae: 4.3194\n",
            "Epoch 18/101\n",
            "404/404 [==============================] - 1s 2ms/step - loss: 39.5656 - mae: 4.3498 - val_loss: 39.0737 - val_mae: 4.6983\n",
            "Epoch 19/101\n",
            "404/404 [==============================] - 1s 2ms/step - loss: 38.9776 - mae: 4.2856 - val_loss: 37.1996 - val_mae: 4.2002\n",
            "Epoch 20/101\n",
            "404/404 [==============================] - 1s 2ms/step - loss: 38.2203 - mae: 4.3091 - val_loss: 39.7431 - val_mae: 4.3182\n",
            "Epoch 21/101\n",
            "404/404 [==============================] - 1s 2ms/step - loss: 38.5339 - mae: 4.2842 - val_loss: 42.7361 - val_mae: 5.3734\n",
            "Epoch 22/101\n",
            "404/404 [==============================] - 1s 2ms/step - loss: 36.3583 - mae: 4.2250 - val_loss: 33.5187 - val_mae: 4.2608\n",
            "Epoch 23/101\n",
            "404/404 [==============================] - 1s 2ms/step - loss: 35.6522 - mae: 4.1910 - val_loss: 33.6359 - val_mae: 4.0289\n",
            "Epoch 24/101\n",
            "404/404 [==============================] - 1s 2ms/step - loss: 34.7947 - mae: 4.1231 - val_loss: 32.7046 - val_mae: 3.9989\n",
            "Epoch 25/101\n",
            "404/404 [==============================] - 1s 2ms/step - loss: 33.1103 - mae: 4.0494 - val_loss: 30.7246 - val_mae: 4.0336\n",
            "Epoch 26/101\n",
            "404/404 [==============================] - 1s 3ms/step - loss: 33.2783 - mae: 4.0835 - val_loss: 29.5504 - val_mae: 3.8785\n",
            "Epoch 27/101\n",
            "404/404 [==============================] - 1s 3ms/step - loss: 33.2114 - mae: 4.0316 - val_loss: 29.3614 - val_mae: 3.8504\n",
            "Epoch 28/101\n",
            "404/404 [==============================] - 1s 2ms/step - loss: 31.8983 - mae: 3.9713 - val_loss: 40.9964 - val_mae: 5.4103\n",
            "Epoch 29/101\n",
            "404/404 [==============================] - 1s 2ms/step - loss: 32.1231 - mae: 3.9963 - val_loss: 30.7797 - val_mae: 3.8546\n",
            "Epoch 30/101\n",
            "404/404 [==============================] - 1s 2ms/step - loss: 31.4178 - mae: 3.8699 - val_loss: 28.8774 - val_mae: 3.9668\n",
            "Epoch 31/101\n",
            "404/404 [==============================] - 1s 2ms/step - loss: 30.1648 - mae: 3.8951 - val_loss: 27.5724 - val_mae: 3.8497\n",
            "Epoch 32/101\n",
            "404/404 [==============================] - 1s 2ms/step - loss: 29.3847 - mae: 3.8652 - val_loss: 39.4801 - val_mae: 4.4289\n",
            "Epoch 33/101\n",
            "404/404 [==============================] - 1s 2ms/step - loss: 28.6396 - mae: 3.8148 - val_loss: 27.5147 - val_mae: 3.9481\n",
            "Epoch 34/101\n",
            "404/404 [==============================] - 1s 2ms/step - loss: 28.2151 - mae: 3.7610 - val_loss: 27.3256 - val_mae: 3.6854\n",
            "Epoch 35/101\n",
            "404/404 [==============================] - 1s 2ms/step - loss: 27.7665 - mae: 3.7959 - val_loss: 27.8771 - val_mae: 3.7110\n",
            "Epoch 36/101\n",
            "404/404 [==============================] - 1s 2ms/step - loss: 27.2167 - mae: 3.6413 - val_loss: 25.8215 - val_mae: 3.6932\n",
            "Epoch 37/101\n",
            "404/404 [==============================] - 1s 2ms/step - loss: 25.4058 - mae: 3.5822 - val_loss: 31.1129 - val_mae: 3.8739\n",
            "Epoch 38/101\n",
            "404/404 [==============================] - 1s 2ms/step - loss: 25.3873 - mae: 3.6052 - val_loss: 37.0543 - val_mae: 4.2894\n",
            "Epoch 39/101\n",
            "404/404 [==============================] - 1s 2ms/step - loss: 25.0010 - mae: 3.5080 - val_loss: 32.2081 - val_mae: 3.9994\n",
            "Epoch 40/101\n",
            "404/404 [==============================] - 1s 2ms/step - loss: 22.2535 - mae: 3.4271 - val_loss: 26.7198 - val_mae: 3.6920\n",
            "Epoch 41/101\n",
            "404/404 [==============================] - 1s 3ms/step - loss: 23.8280 - mae: 3.4316 - val_loss: 31.2100 - val_mae: 3.8829\n",
            "Epoch 42/101\n",
            "404/404 [==============================] - 1s 3ms/step - loss: 23.7688 - mae: 3.3783 - val_loss: 25.9102 - val_mae: 3.9230\n",
            "Epoch 43/101\n",
            "404/404 [==============================] - 1s 2ms/step - loss: 22.6440 - mae: 3.4416 - val_loss: 29.6954 - val_mae: 3.8554\n",
            "Epoch 44/101\n",
            "404/404 [==============================] - 1s 2ms/step - loss: 22.8168 - mae: 3.3599 - val_loss: 25.3324 - val_mae: 3.8168\n",
            "Epoch 45/101\n",
            "404/404 [==============================] - 1s 2ms/step - loss: 22.9352 - mae: 3.2994 - val_loss: 26.7811 - val_mae: 3.6831\n",
            "Epoch 46/101\n",
            "404/404 [==============================] - 1s 2ms/step - loss: 21.8306 - mae: 3.3338 - val_loss: 31.5866 - val_mae: 4.0118\n",
            "Epoch 47/101\n",
            "404/404 [==============================] - 1s 2ms/step - loss: 20.5797 - mae: 3.2646 - val_loss: 26.1344 - val_mae: 3.6493\n",
            "Epoch 48/101\n",
            "404/404 [==============================] - 1s 2ms/step - loss: 20.8941 - mae: 3.2749 - val_loss: 30.2288 - val_mae: 4.3113\n",
            "Epoch 49/101\n",
            "404/404 [==============================] - 1s 2ms/step - loss: 20.6382 - mae: 3.2211 - val_loss: 28.9633 - val_mae: 3.9069\n",
            "Epoch 50/101\n",
            "404/404 [==============================] - 1s 2ms/step - loss: 19.2276 - mae: 3.1928 - val_loss: 27.0444 - val_mae: 3.8186\n",
            "Epoch 51/101\n",
            "404/404 [==============================] - 1s 2ms/step - loss: 19.8014 - mae: 3.1949 - val_loss: 29.6335 - val_mae: 4.1009\n",
            "Epoch 52/101\n",
            "404/404 [==============================] - 1s 2ms/step - loss: 20.4436 - mae: 3.2386 - val_loss: 27.8121 - val_mae: 3.6988\n",
            "Epoch 53/101\n",
            "404/404 [==============================] - 1s 2ms/step - loss: 18.0774 - mae: 3.0789 - val_loss: 31.7696 - val_mae: 3.9170\n",
            "Epoch 54/101\n",
            "404/404 [==============================] - 1s 2ms/step - loss: 19.9461 - mae: 3.1850 - val_loss: 27.7701 - val_mae: 3.7515\n",
            "Epoch 55/101\n",
            "404/404 [==============================] - 1s 2ms/step - loss: 19.6963 - mae: 3.1390 - val_loss: 27.1848 - val_mae: 3.6095\n",
            "Epoch 56/101\n",
            "404/404 [==============================] - 1s 3ms/step - loss: 18.6621 - mae: 3.1436 - val_loss: 26.3929 - val_mae: 3.7751\n",
            "Epoch 57/101\n",
            "404/404 [==============================] - 1s 3ms/step - loss: 19.8288 - mae: 3.2038 - val_loss: 29.8933 - val_mae: 3.8895\n",
            "Epoch 58/101\n",
            "404/404 [==============================] - 1s 2ms/step - loss: 18.8270 - mae: 3.0682 - val_loss: 31.0341 - val_mae: 3.8919\n",
            "Epoch 59/101\n",
            "404/404 [==============================] - 1s 2ms/step - loss: 20.0158 - mae: 3.1595 - val_loss: 28.3426 - val_mae: 3.7125\n",
            "Epoch 60/101\n",
            "404/404 [==============================] - 1s 2ms/step - loss: 18.5979 - mae: 3.0871 - val_loss: 28.4566 - val_mae: 3.7339\n",
            "Epoch 61/101\n",
            "404/404 [==============================] - 1s 2ms/step - loss: 18.4289 - mae: 3.1355 - val_loss: 28.2613 - val_mae: 3.7829\n",
            "Epoch 62/101\n",
            "404/404 [==============================] - 1s 2ms/step - loss: 18.7273 - mae: 3.1682 - val_loss: 29.3271 - val_mae: 3.7651\n",
            "Epoch 63/101\n",
            "404/404 [==============================] - 1s 2ms/step - loss: 18.4254 - mae: 3.1141 - val_loss: 29.9379 - val_mae: 3.7744\n",
            "Epoch 64/101\n",
            "404/404 [==============================] - 1s 2ms/step - loss: 19.1617 - mae: 3.1276 - val_loss: 29.7878 - val_mae: 3.8201\n",
            "Epoch 65/101\n",
            "404/404 [==============================] - 1s 2ms/step - loss: 17.9650 - mae: 3.0990 - val_loss: 30.4759 - val_mae: 3.8295\n",
            "Epoch 66/101\n",
            "404/404 [==============================] - 1s 2ms/step - loss: 17.1879 - mae: 3.0082 - val_loss: 30.9119 - val_mae: 3.8834\n",
            "Epoch 67/101\n",
            "404/404 [==============================] - 1s 2ms/step - loss: 18.7164 - mae: 3.0345 - val_loss: 31.8317 - val_mae: 3.9603\n",
            "Epoch 68/101\n",
            "404/404 [==============================] - 1s 2ms/step - loss: 18.5195 - mae: 3.1268 - val_loss: 33.2462 - val_mae: 4.0645\n",
            "Epoch 69/101\n",
            "404/404 [==============================] - 1s 2ms/step - loss: 17.9197 - mae: 3.0231 - val_loss: 29.3047 - val_mae: 3.7810\n",
            "Epoch 70/101\n",
            "404/404 [==============================] - 1s 2ms/step - loss: 17.6505 - mae: 3.0442 - val_loss: 34.6805 - val_mae: 4.0090\n",
            "Epoch 71/101\n",
            "404/404 [==============================] - 1s 3ms/step - loss: 18.5675 - mae: 3.0672 - val_loss: 32.3926 - val_mae: 3.9655\n",
            "Epoch 72/101\n",
            "404/404 [==============================] - 1s 3ms/step - loss: 17.1834 - mae: 2.9173 - val_loss: 32.3932 - val_mae: 3.9173\n",
            "Epoch 73/101\n",
            "404/404 [==============================] - 1s 2ms/step - loss: 18.0210 - mae: 3.0009 - val_loss: 30.2902 - val_mae: 3.8024\n",
            "Epoch 74/101\n",
            "404/404 [==============================] - 1s 2ms/step - loss: 16.8488 - mae: 2.9684 - val_loss: 29.7800 - val_mae: 3.7844\n",
            "Epoch 75/101\n",
            "404/404 [==============================] - 1s 2ms/step - loss: 17.7256 - mae: 3.0674 - val_loss: 32.9423 - val_mae: 3.9530\n",
            "Epoch 76/101\n",
            "404/404 [==============================] - 1s 2ms/step - loss: 17.0706 - mae: 2.9376 - val_loss: 29.8008 - val_mae: 3.7231\n",
            "Epoch 77/101\n",
            "404/404 [==============================] - 1s 2ms/step - loss: 16.8908 - mae: 2.9819 - val_loss: 29.9362 - val_mae: 3.7339\n",
            "Epoch 78/101\n",
            "404/404 [==============================] - 1s 2ms/step - loss: 17.9109 - mae: 2.9510 - val_loss: 29.9230 - val_mae: 3.7882\n",
            "Epoch 79/101\n",
            "404/404 [==============================] - 1s 2ms/step - loss: 17.5371 - mae: 3.0034 - val_loss: 33.9135 - val_mae: 3.9884\n",
            "Epoch 80/101\n",
            "404/404 [==============================] - 1s 2ms/step - loss: 17.5408 - mae: 3.0029 - val_loss: 30.4157 - val_mae: 3.7455\n",
            "Epoch 81/101\n",
            "404/404 [==============================] - 1s 2ms/step - loss: 17.6146 - mae: 3.0710 - val_loss: 31.4424 - val_mae: 3.7894\n",
            "Epoch 82/101\n",
            "404/404 [==============================] - 1s 2ms/step - loss: 17.0421 - mae: 2.9879 - val_loss: 33.0144 - val_mae: 4.1357\n",
            "Epoch 83/101\n",
            "404/404 [==============================] - 1s 2ms/step - loss: 17.2384 - mae: 3.0159 - val_loss: 30.2859 - val_mae: 3.6560\n",
            "Epoch 84/101\n",
            "404/404 [==============================] - 1s 2ms/step - loss: 16.8869 - mae: 2.8691 - val_loss: 30.3275 - val_mae: 3.8753\n",
            "Epoch 85/101\n",
            "404/404 [==============================] - 1s 2ms/step - loss: 16.4927 - mae: 2.9056 - val_loss: 29.8478 - val_mae: 3.6972\n",
            "Epoch 86/101\n",
            "404/404 [==============================] - 1s 3ms/step - loss: 16.7181 - mae: 2.9437 - val_loss: 28.1083 - val_mae: 3.5629\n",
            "Epoch 87/101\n",
            "404/404 [==============================] - 1s 3ms/step - loss: 17.8035 - mae: 2.9108 - val_loss: 29.8886 - val_mae: 3.6446\n",
            "Epoch 88/101\n",
            "404/404 [==============================] - 1s 2ms/step - loss: 16.9503 - mae: 2.9690 - val_loss: 31.5632 - val_mae: 3.8417\n",
            "Epoch 89/101\n",
            "404/404 [==============================] - 1s 2ms/step - loss: 17.4951 - mae: 2.9749 - val_loss: 27.9133 - val_mae: 3.5783\n",
            "Epoch 90/101\n",
            "404/404 [==============================] - 1s 2ms/step - loss: 17.2149 - mae: 2.9233 - val_loss: 28.5825 - val_mae: 3.5439\n",
            "Epoch 91/101\n",
            "404/404 [==============================] - 1s 2ms/step - loss: 16.9034 - mae: 2.9647 - val_loss: 28.3516 - val_mae: 3.5724\n",
            "Epoch 92/101\n",
            "404/404 [==============================] - 1s 2ms/step - loss: 17.0952 - mae: 2.8846 - val_loss: 27.6101 - val_mae: 3.5948\n",
            "Epoch 93/101\n",
            "404/404 [==============================] - 1s 2ms/step - loss: 16.5420 - mae: 2.9480 - val_loss: 28.0142 - val_mae: 3.8132\n",
            "Epoch 94/101\n",
            "404/404 [==============================] - 1s 2ms/step - loss: 16.4818 - mae: 2.8834 - val_loss: 32.9060 - val_mae: 3.9483\n",
            "Epoch 95/101\n",
            "404/404 [==============================] - 1s 2ms/step - loss: 17.2138 - mae: 2.9383 - val_loss: 32.0891 - val_mae: 3.9119\n",
            "Epoch 96/101\n",
            "404/404 [==============================] - 1s 2ms/step - loss: 16.7036 - mae: 2.8768 - val_loss: 31.7058 - val_mae: 3.8660\n",
            "Epoch 97/101\n",
            "404/404 [==============================] - 1s 2ms/step - loss: 16.7293 - mae: 2.9262 - val_loss: 29.3995 - val_mae: 3.7707\n",
            "Epoch 98/101\n",
            "404/404 [==============================] - 1s 2ms/step - loss: 16.7883 - mae: 2.8053 - val_loss: 27.2839 - val_mae: 3.5122\n",
            "Epoch 99/101\n",
            "404/404 [==============================] - 1s 2ms/step - loss: 16.3843 - mae: 2.9171 - val_loss: 33.7906 - val_mae: 3.9596\n",
            "Epoch 100/101\n",
            "404/404 [==============================] - 1s 2ms/step - loss: 16.3907 - mae: 2.8576 - val_loss: 28.7606 - val_mae: 3.8147\n",
            "Epoch 101/101\n",
            "404/404 [==============================] - 1s 3ms/step - loss: 16.3094 - mae: 2.9156 - val_loss: 30.6212 - val_mae: 3.6713\n"
          ]
        }
      ]
    },
    {
      "cell_type": "code",
      "source": [
        "test_input = preprocessing.normalize([test_input])\n",
        "print(\"Actual output: 24.0\")\n",
        "print(\"predicted Output: \", model.predict(test_input))\n"
      ],
      "metadata": {
        "colab": {
          "base_uri": "https://localhost:8080/",
          "height": 200
        },
        "id": "GfmUd9H9-sIb",
        "outputId": "bf13bb96-4233-4cb2-9960-235039b94877"
      },
      "execution_count": 33,
      "outputs": [
        {
          "output_type": "error",
          "ename": "NameError",
          "evalue": "ignored",
          "traceback": [
            "\u001b[0;31m---------------------------------------------------------------------------\u001b[0m",
            "\u001b[0;31mNameError\u001b[0m                                 Traceback (most recent call last)",
            "\u001b[0;32m<ipython-input-33-2cc630ac67f8>\u001b[0m in \u001b[0;36m<cell line: 1>\u001b[0;34m()\u001b[0m\n\u001b[0;32m----> 1\u001b[0;31m \u001b[0mtest_input\u001b[0m \u001b[0;34m=\u001b[0m \u001b[0mpreprocessing\u001b[0m\u001b[0;34m.\u001b[0m\u001b[0mnormalize\u001b[0m\u001b[0;34m(\u001b[0m\u001b[0;34m[\u001b[0m\u001b[0mtest_input\u001b[0m\u001b[0;34m]\u001b[0m\u001b[0;34m)\u001b[0m\u001b[0;34m\u001b[0m\u001b[0;34m\u001b[0m\u001b[0m\n\u001b[0m\u001b[1;32m      2\u001b[0m \u001b[0mprint\u001b[0m\u001b[0;34m(\u001b[0m\u001b[0;34m\"Actual output: 24.0\"\u001b[0m\u001b[0;34m)\u001b[0m\u001b[0;34m\u001b[0m\u001b[0;34m\u001b[0m\u001b[0m\n\u001b[1;32m      3\u001b[0m \u001b[0mprint\u001b[0m\u001b[0;34m(\u001b[0m\u001b[0;34m\"predicted Output: \"\u001b[0m\u001b[0;34m,\u001b[0m \u001b[0mmodel\u001b[0m\u001b[0;34m.\u001b[0m\u001b[0mpredict\u001b[0m\u001b[0;34m(\u001b[0m\u001b[0mtest_input\u001b[0m\u001b[0;34m)\u001b[0m\u001b[0;34m)\u001b[0m\u001b[0;34m\u001b[0m\u001b[0;34m\u001b[0m\u001b[0m\n",
            "\u001b[0;31mNameError\u001b[0m: name 'test_input' is not defined"
          ]
        }
      ]
    }
  ]
}